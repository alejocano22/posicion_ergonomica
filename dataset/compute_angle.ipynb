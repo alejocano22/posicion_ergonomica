{
 "cells": [
  {
   "cell_type": "code",
   "execution_count": 5,
   "metadata": {},
   "outputs": [],
   "source": [
    "import numpy as np"
   ]
  },
  {
   "cell_type": "code",
   "execution_count": 6,
   "metadata": {},
   "outputs": [],
   "source": [
    "pose_keypoints_2d = np.array([\n",
    "                660.734,\n",
    "                5.37889,\n",
    "                0.0827896,\n",
    "                615.662,\n",
    "                100.37,\n",
    "                0.73689,\n",
    "                543.164,\n",
    "                84.807,\n",
    "                0.638431,\n",
    "                525.521,\n",
    "                249.323,\n",
    "                0.657323,\n",
    "                525.637,\n",
    "                339.477,\n",
    "                0.852181,\n",
    "                682.222,\n",
    "                116.067,\n",
    "                0.65772,\n",
    "                705.793,\n",
    "                245.386,\n",
    "                0.779106,\n",
    "                740.985,\n",
    "                366.822,\n",
    "                0.748721,\n",
    "                617.532,\n",
    "                364.887,\n",
    "                0.526342,\n",
    "                570.652,\n",
    "                364.868,\n",
    "                0.487319,\n",
    "                570.625,\n",
    "                556.924,\n",
    "                0.474677,\n",
    "                554.91,\n",
    "                715.649,\n",
    "                0.102686,\n",
    "                662.666,\n",
    "                364.887,\n",
    "                0.530899,\n",
    "                684.282,\n",
    "                572.58,\n",
    "                0.6386,\n",
    "                682.221,\n",
    "                715.65,\n",
    "                0.0907988,\n",
    "                0,\n",
    "                0,\n",
    "                0,\n",
    "                0,\n",
    "                0,\n",
    "                0,\n",
    "                586.307,\n",
    "                5.38229,\n",
    "                0.0818318,\n",
    "                0,\n",
    "                0,\n",
    "                0,\n",
    "                0,\n",
    "                0,\n",
    "                0,\n",
    "                0,\n",
    "                0,\n",
    "                0,\n",
    "                0,\n",
    "                0,\n",
    "                0,\n",
    "                0,\n",
    "                0,\n",
    "                0,\n",
    "                0,\n",
    "                0,\n",
    "                0,\n",
    "                0,\n",
    "                0,\n",
    "                0\n",
    "            ])"
   ]
  },
  {
   "cell_type": "code",
   "execution_count": 7,
   "metadata": {},
   "outputs": [],
   "source": [
    "pose_keypoints_2d_agachado = np.array([\n",
    "                840.959,\n",
    "                315.942,\n",
    "                0.746511,\n",
    "                744.955,\n",
    "                276.771,\n",
    "                0.584394,\n",
    "                680.315,\n",
    "                266.912,\n",
    "                0.44513,\n",
    "                615.684,\n",
    "                417.786,\n",
    "                0.606799,\n",
    "                570.648,\n",
    "                586.327,\n",
    "                0.830277,\n",
    "                811.59,\n",
    "                290.436,\n",
    "                0.403926,\n",
    "                793.938,\n",
    "                431.558,\n",
    "                0.797783,\n",
    "                789.935,\n",
    "                572.627,\n",
    "                0.816748,\n",
    "                596.076,\n",
    "                335.558,\n",
    "                0.486505,\n",
    "                537.307,\n",
    "                327.691,\n",
    "                0.472944,\n",
    "                631.334,\n",
    "                476.533,\n",
    "                0.638455,\n",
    "                601.963,\n",
    "                601.98,\n",
    "                0.0528956,\n",
    "                648.988,\n",
    "                353.166,\n",
    "                0.380725,\n",
    "                715.628,\n",
    "                484.424,\n",
    "                0.63689,\n",
    "                682.293,\n",
    "                692.065,\n",
    "                0.676817,\n",
    "                841.044,\n",
    "                298.316,\n",
    "                0.796356,\n",
    "                0,\n",
    "                0,\n",
    "                0,\n",
    "                803.701,\n",
    "                245.418,\n",
    "                0.784031,\n",
    "                0,\n",
    "                0,\n",
    "                0,\n",
    "                727.375,\n",
    "                715.602,\n",
    "                0.101546,\n",
    "                713.61,\n",
    "                715.596,\n",
    "                0.0815,\n",
    "                666.615,\n",
    "                698.029,\n",
    "                0.443954,\n",
    "                0,\n",
    "                0,\n",
    "                0,\n",
    "                0,\n",
    "                0,\n",
    "                0,\n",
    "                0,\n",
    "                0,\n",
    "                0\n",
    "            ])"
   ]
  },
  {
   "cell_type": "code",
   "execution_count": 8,
   "metadata": {},
   "outputs": [
    {
     "data": {
      "text/plain": [
       "array([[6.60734e+02, 5.37889e+00, 8.27896e-02],\n",
       "       [6.15662e+02, 1.00370e+02, 7.36890e-01],\n",
       "       [5.43164e+02, 8.48070e+01, 6.38431e-01],\n",
       "       [5.25521e+02, 2.49323e+02, 6.57323e-01],\n",
       "       [5.25637e+02, 3.39477e+02, 8.52181e-01],\n",
       "       [6.82222e+02, 1.16067e+02, 6.57720e-01],\n",
       "       [7.05793e+02, 2.45386e+02, 7.79106e-01],\n",
       "       [7.40985e+02, 3.66822e+02, 7.48721e-01],\n",
       "       [6.17532e+02, 3.64887e+02, 5.26342e-01],\n",
       "       [5.70652e+02, 3.64868e+02, 4.87319e-01],\n",
       "       [5.70625e+02, 5.56924e+02, 4.74677e-01],\n",
       "       [5.54910e+02, 7.15649e+02, 1.02686e-01],\n",
       "       [6.62666e+02, 3.64887e+02, 5.30899e-01],\n",
       "       [6.84282e+02, 5.72580e+02, 6.38600e-01],\n",
       "       [6.82221e+02, 7.15650e+02, 9.07988e-02],\n",
       "       [0.00000e+00, 0.00000e+00, 0.00000e+00],\n",
       "       [0.00000e+00, 0.00000e+00, 0.00000e+00],\n",
       "       [5.86307e+02, 5.38229e+00, 8.18318e-02],\n",
       "       [0.00000e+00, 0.00000e+00, 0.00000e+00],\n",
       "       [0.00000e+00, 0.00000e+00, 0.00000e+00],\n",
       "       [0.00000e+00, 0.00000e+00, 0.00000e+00],\n",
       "       [0.00000e+00, 0.00000e+00, 0.00000e+00],\n",
       "       [0.00000e+00, 0.00000e+00, 0.00000e+00],\n",
       "       [0.00000e+00, 0.00000e+00, 0.00000e+00],\n",
       "       [0.00000e+00, 0.00000e+00, 0.00000e+00]])"
      ]
     },
     "execution_count": 8,
     "metadata": {},
     "output_type": "execute_result"
    }
   ],
   "source": [
    "pose_keypoints_2d = pose_keypoints_2d.reshape(-1, 3)\n",
    "pose_keypoints_2d_agachado = pose_keypoints_2d_agachado.reshape(-1, 3)\n",
    "pose_keypoints_2d"
   ]
  },
  {
   "cell_type": "code",
   "execution_count": 9,
   "metadata": {},
   "outputs": [
    {
     "data": {
      "text/plain": [
       "26"
      ]
     },
     "execution_count": 9,
     "metadata": {},
     "output_type": "execute_result"
    }
   ],
   "source": [
    "body_parts = [\n",
    "     \"Nose\",\n",
    "     \"Neck\",\n",
    "     \"RShoulder\",\n",
    "     \"RElbow\",\n",
    "     \"RWrist\",\n",
    "     \"LShoulder\",\n",
    "     \"LElbow\",\n",
    "     \"LWrist\",\n",
    "     \"MidHip\",\n",
    "     \"RHip\",\n",
    "     \"RKnee\",\n",
    "     \"RAnkle\",\n",
    "     \"LHip\",\n",
    "     \"LKnee\",\n",
    "     \"LAnkle\",\n",
    "     \"REye\",\n",
    "     \"LEye\",\n",
    "     \"REar\",\n",
    "     \"LEar\",\n",
    "     \"LBigToe\",\n",
    "     \"LSmallToe\",\n",
    "     \"LHeel\",\n",
    "     \"RBigToe\",\n",
    "     \"RSmallToe\",\n",
    "     \"RHeel\",\n",
    "     \"Background\",\n",
    "]\n",
    "body_parts = {body_parts[i]:i for i in range(len(body_parts))}\n",
    "len(body_parts)"
   ]
  },
  {
   "cell_type": "code",
   "execution_count": 10,
   "metadata": {},
   "outputs": [],
   "source": [
    "def angle_between(v1, v2):\n",
    "    dot_pr = v1.dot(v2)\n",
    "    norms = np.linalg.norm(v1) * np.linalg.norm(v2)\n",
    "    return np.rad2deg(np.arccos(dot_pr / norms))"
   ]
  },
  {
   "cell_type": "code",
   "execution_count": 11,
   "metadata": {},
   "outputs": [],
   "source": [
    "def compute_arm_angle_right(pose_keypoints_2d, body_parts):\n",
    "    coordinates_right_shoulder = pose_keypoints_2d[body_parts[\"RShoulder\"]][0:2]\n",
    "    coordinates_right_wrist = pose_keypoints_2d[body_parts[\"RWrist\"]][0:2]\n",
    "    coordinates_right_hip = pose_keypoints_2d[body_parts[\"RHip\"]][0:2]\n",
    "    return angle_between(coordinates_right_wrist - coordinates_right_shoulder, coordinates_right_hip - coordinates_right_shoulder)"
   ]
  },
  {
   "cell_type": "code",
   "execution_count": 12,
   "metadata": {},
   "outputs": [],
   "source": [
    "def compute_arm_angle_left(pose_keypoints_2d, body_parts):\n",
    "    coordinates_left_shoulder = pose_keypoints_2d[body_parts[\"LShoulder\"]][0:2]\n",
    "    coordinates_left_wrist = pose_keypoints_2d[body_parts[\"LWrist\"]][0:2]\n",
    "    coordinates_left_hip = pose_keypoints_2d[body_parts[\"LHip\"]][0:2]\n",
    "    return angle_between(coordinates_left_wrist - coordinates_left_shoulder, coordinates_left_hip - coordinates_left_shoulder)"
   ]
  },
  {
   "cell_type": "code",
   "execution_count": 13,
   "metadata": {},
   "outputs": [],
   "source": [
    "def compute_forearm_angle_left(pose_keypoints_2d, body_parts):\n",
    "    coordinates_left_shoulder = pose_keypoints_2d[body_parts[\"LShoulder\"]][0:2]\n",
    "    coordinates_left_elbow = pose_keypoints_2d[body_parts[\"LElbow\"]][0:2]\n",
    "    coordinates_left_wrist = pose_keypoints_2d[body_parts[\"LWrist\"]][0:2]\n",
    "    return 180 - angle_between(coordinates_left_shoulder - coordinates_left_elbow, coordinates_left_wrist - coordinates_left_elbow)"
   ]
  },
  {
   "cell_type": "code",
   "execution_count": 14,
   "metadata": {},
   "outputs": [],
   "source": [
    "def compute_forearm_angle_right(pose_keypoints_2d, body_parts):\n",
    "    coordinates_right_shoulder = pose_keypoints_2d[body_parts[\"RShoulder\"]][0:2]\n",
    "    coordinates_right_elbow = pose_keypoints_2d[body_parts[\"RElbow\"]][0:2]\n",
    "    coordinates_right_wrist = pose_keypoints_2d[body_parts[\"RWrist\"]][0:2]\n",
    "    return 180 - angle_between(coordinates_right_shoulder - coordinates_right_elbow, coordinates_right_wrist - coordinates_right_elbow)"
   ]
  },
  {
   "cell_type": "code",
   "execution_count": 15,
   "metadata": {},
   "outputs": [],
   "source": [
    "def compute_back_angle(pose_keypoints_2d, body_parts):\n",
    "    coordinates_mid_hip = pose_keypoints_2d[body_parts[\"MidHip\"]][0:2]\n",
    "    coordinates_vertical_point = (coordinates_mid_hip[0], coordinates_mid_hip[1] - 1)\n",
    "    coordinates_neck = pose_keypoints_2d[body_parts[\"Neck\"]][0:2]\n",
    "    return angle_between(coordinates_vertical_point - coordinates_mid_hip, coordinates_neck - coordinates_mid_hip)"
   ]
  },
  {
   "cell_type": "code",
   "execution_count": 32,
   "metadata": {},
   "outputs": [
    {
     "name": "stdout",
     "output_type": "stream",
     "text": [
      "Angulo brazo izquierdo 17.682864167834612 grados\n",
      "Angulo brazo right 9.54265373268067 grados\n",
      "Angulo antebrazo izquierdo 5.831607290019917 grados\n",
      "Angulo antebrazo derecha 6.194832648367509 grados\n",
      "Angulo espalda 0.4050451306410661 grados\n"
     ]
    }
   ],
   "source": [
    "angle_arm_left = compute_arm_angle_left(pose_keypoints_2d, body_parts)\n",
    "angle_arm_right = compute_arm_angle_right(pose_keypoints_2d, body_parts)\n",
    "angle_forearm_left = compute_forearm_angle_left(pose_keypoints_2d, body_parts)\n",
    "angle_forearm_right = compute_forearm_angle_right(pose_keypoints_2d, body_parts)\n",
    "angle_back = compute_back_angle(pose_keypoints_2d, body_parts)\n",
    "\n",
    "print(\"Angulo brazo izquierdo\", angle_arm_left, \"grados\")\n",
    "print(\"Angulo brazo right\", angle_arm_right, \"grados\")\n",
    "print(\"Angulo antebrazo izquierdo\", angle_forearm_left, \"grados\")\n",
    "print(\"Angulo antebrazo derecha\", angle_forearm_right, \"grados\")\n",
    "print(\"Angulo espalda\", angle_back, \"grados\")"
   ]
  },
  {
   "cell_type": "code",
   "execution_count": 17,
   "metadata": {},
   "outputs": [
    {
     "name": "stdout",
     "output_type": "stream",
     "text": [
      "Angulo brazo izquierdo 64.51574420502415 grados\n",
      "Angulo brazo right 48.025059818533784 grados\n",
      "Angulo antebrazo izquierdo 5.504313974357501 grados\n",
      "Angulo antebrazo derecha 8.228666332088011 grados\n",
      "Angulo espalda 68.45270676242555 grados\n"
     ]
    }
   ],
   "source": [
    "angle_arm_left = compute_arm_angle_left(pose_keypoints_2d_agachado, body_parts)\n",
    "angle_arm_right = compute_arm_angle_right(pose_keypoints_2d_agachado, body_parts)\n",
    "angle_forearm_left = compute_forearm_angle_left(pose_keypoints_2d_agachado, body_parts)\n",
    "angle_forearm_right = compute_forearm_angle_right(pose_keypoints_2d_agachado, body_parts)\n",
    "angle_back = compute_back_angle(pose_keypoints_2d_agachado, body_parts)\n",
    "\n",
    "print(\"Angulo brazo izquierdo\", angle_arm_left, \"grados\")\n",
    "print(\"Angulo brazo right\", angle_arm_right, \"grados\")\n",
    "print(\"Angulo antebrazo izquierdo\", angle_forearm_left, \"grados\")\n",
    "print(\"Angulo antebrazo derecha\", angle_forearm_right, \"grados\")\n",
    "print(\"Angulo espalda\", angle_back, \"grados\")"
   ]
  },
  {
   "cell_type": "code",
   "execution_count": 18,
   "metadata": {},
   "outputs": [],
   "source": [
    "def compute_score_arm(arm_angle):\n",
    "    if  20 < arm_angle < 45:\n",
    "        return 2\n",
    "    if 45 < arm_angle < 90:\n",
    "        return 3\n",
    "    if arm_angle > 90:\n",
    "        return 4\n",
    "    return 1"
   ]
  },
  {
   "cell_type": "code",
   "execution_count": 19,
   "metadata": {},
   "outputs": [],
   "source": [
    "def compute_score_forearm(forearm_angle):\n",
    "    return 1 if 60 <= forearm_angle <= 100 else 2"
   ]
  },
  {
   "cell_type": "code",
   "execution_count": 20,
   "metadata": {},
   "outputs": [],
   "source": [
    "def compute_score_back(back_angle):\n",
    "    if 0 <= back_angle <= 20:\n",
    "        return 2\n",
    "    if 20 <= back_angle <= 60:\n",
    "        return 3\n",
    "    if back_angle > 60:\n",
    "        return 4\n",
    "    return 0"
   ]
  },
  {
   "cell_type": "code",
   "execution_count": 28,
   "metadata": {},
   "outputs": [],
   "source": [
    "score_rula = (compute_score_arm(angle_arm_left) + compute_score_arm(angle_arm_right))/2\n",
    "score_rula += (compute_score_forearm(angle_forearm_left) + compute_score_forearm(angle_forearm_right))/2\n",
    "score_rula += compute_score_back(angle_back)\n",
    "score_rula /= 3"
   ]
  },
  {
   "cell_type": "code",
   "execution_count": 29,
   "metadata": {},
   "outputs": [
    {
     "name": "stdout",
     "output_type": "stream",
     "text": [
      "1.6666666666666667\n"
     ]
    }
   ],
   "source": [
    "print(score_rula)"
   ]
  },
  {
   "cell_type": "code",
   "execution_count": 30,
   "metadata": {},
   "outputs": [],
   "source": [
    "score_rula = 1 if score_rula > 2 else 0"
   ]
  },
  {
   "cell_type": "code",
   "execution_count": 31,
   "metadata": {},
   "outputs": [
    {
     "data": {
      "text/plain": [
       "0"
      ]
     },
     "execution_count": 31,
     "metadata": {},
     "output_type": "execute_result"
    }
   ],
   "source": [
    "score_rula"
   ]
  }
 ],
 "metadata": {
  "kernelspec": {
   "display_name": "Python 3",
   "language": "python",
   "name": "python3"
  },
  "language_info": {
   "codemirror_mode": {
    "name": "ipython",
    "version": 3
   },
   "file_extension": ".py",
   "mimetype": "text/x-python",
   "name": "python",
   "nbconvert_exporter": "python",
   "pygments_lexer": "ipython3",
   "version": "3.7.4"
  }
 },
 "nbformat": 4,
 "nbformat_minor": 2
}
